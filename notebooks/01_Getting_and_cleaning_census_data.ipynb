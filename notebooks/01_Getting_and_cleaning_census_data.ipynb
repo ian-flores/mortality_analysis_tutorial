{
 "cells": [
  {
   "cell_type": "markdown",
   "metadata": {},
   "source": [
    "# 01 - Getting and Cleaning Census Data\n",
    "### by Ian Flores Siaca\n",
    "##### October 2018"
   ]
  },
  {
   "cell_type": "markdown",
   "metadata": {},
   "source": [
    "## Purpose of this Notebook\n",
    "\n",
    "#### Learning\n",
    "* Dealing with the `os` library for basic functions\n",
    "* Standarizing names in Spanish with the `unidecode` library.\n",
    "\n",
    "#### Project\n",
    "* Extract the population estimates for each municipality.\n",
    "* Clean the name of the municipalities in the census dataset."
   ]
  },
  {
   "cell_type": "markdown",
   "metadata": {},
   "source": [
    "## Census Data"
   ]
  },
  {
   "cell_type": "markdown",
   "metadata": {},
   "source": [
    "The United States established in 1840 a central office to oversee the census of the population of its states and territories. This office today is known as the United States Census Bureau. They perform a decenial census, the last one being in 2010. With this information they produce what is called *PEPANNRES - Annual Estimates of the Resident Population* in which they do population estimates by different geographic levels. In March 2018 they published the estimates for municipalities in the year 2017. This is exactly what we need for our analysis. "
   ]
  },
  {
   "cell_type": "markdown",
   "metadata": {},
   "source": [
    "## Getting the Data"
   ]
  },
  {
   "cell_type": "markdown",
   "metadata": {},
   "source": [
    "The Census Bureau makes their data available through many pages and API's. Here we are going to use the *FactFinder* webpage and download the data manually, but it is worth noting that there are API wrappers in Python such as: \n",
    "\n",
    "* Census - https://github.com/datamade/census \n",
    "* Census Areas - https://github.com/datamade/census_area"
   ]
  },
  {
   "cell_type": "markdown",
   "metadata": {},
   "source": [
    "If you want to get the data manually it is available in the following [LINK](https://factfinder.census.gov/bkmk/table/1.0/en/PEP/2017/PEPANNRES/0400000US72.05000). However, it is included as a zip file in the repository for reproducibility purposes.  "
   ]
  },
  {
   "cell_type": "markdown",
   "metadata": {},
   "source": [
    "## Let's code!"
   ]
  },
  {
   "cell_type": "markdown",
   "metadata": {},
   "source": [
    "#### Load the libraries"
   ]
  },
  {
   "cell_type": "markdown",
   "metadata": {},
   "source": [
    "* pandas is a library to do data wrangling and dealing with data in general.\n",
    "* os is a library that allows us to interact with the computer in a lower level than python.\n",
    "* unidecode is a library that helps us deal with the names of the municipalities in Spanish. (Remember, PR is a Spanish speaking nation :D)"
   ]
  },
  {
   "cell_type": "code",
   "execution_count": 1,
   "metadata": {},
   "outputs": [],
   "source": [
    "import pandas as pd\n",
    "import os\n",
    "import unidecode"
   ]
  },
  {
   "cell_type": "markdown",
   "metadata": {},
   "source": [
    "#### Extract the data"
   ]
  },
  {
   "cell_type": "markdown",
   "metadata": {},
   "source": [
    "The data is stored in a compressed form, we need to extract it and save it in a place where we can use it.\n",
    "\n",
    "Steps:\n",
    "* Extract the data ---- `unzip` command\n",
    "* Store it the `data/` folder ---- `-d data/` command"
   ]
  },
  {
   "cell_type": "code",
   "execution_count": 2,
   "metadata": {},
   "outputs": [
    {
     "data": {
      "text/plain": [
       "0"
      ]
     },
     "execution_count": 2,
     "metadata": {},
     "output_type": "execute_result"
    }
   ],
   "source": [
    "os.system(\"unzip ../data/PEP_2017_PEPANNRES.zip -d ../data/\")"
   ]
  },
  {
   "cell_type": "markdown",
   "metadata": {},
   "source": [
    "#### Load the data"
   ]
  },
  {
   "cell_type": "markdown",
   "metadata": {},
   "source": [
    "`pd.read_csv` is a function from the pandas package that allows us to load Comma Separated Values (CSV) files into Python with ease. The `head()` method let's us see the top rows of the data frame. "
   ]
  },
  {
   "cell_type": "code",
   "execution_count": 3,
   "metadata": {},
   "outputs": [
    {
     "data": {
      "text/html": [
       "<div>\n",
       "<style scoped>\n",
       "    .dataframe tbody tr th:only-of-type {\n",
       "        vertical-align: middle;\n",
       "    }\n",
       "\n",
       "    .dataframe tbody tr th {\n",
       "        vertical-align: top;\n",
       "    }\n",
       "\n",
       "    .dataframe thead th {\n",
       "        text-align: right;\n",
       "    }\n",
       "</style>\n",
       "<table border=\"1\" class=\"dataframe\">\n",
       "  <thead>\n",
       "    <tr style=\"text-align: right;\">\n",
       "      <th></th>\n",
       "      <th>GEO.id</th>\n",
       "      <th>GEO.id2</th>\n",
       "      <th>GEO.display-label</th>\n",
       "      <th>rescen42010</th>\n",
       "      <th>resbase42010</th>\n",
       "      <th>respop72010</th>\n",
       "      <th>respop72011</th>\n",
       "      <th>respop72012</th>\n",
       "      <th>respop72013</th>\n",
       "      <th>respop72014</th>\n",
       "      <th>respop72015</th>\n",
       "      <th>respop72016</th>\n",
       "      <th>respop72017</th>\n",
       "    </tr>\n",
       "  </thead>\n",
       "  <tbody>\n",
       "    <tr>\n",
       "      <th>0</th>\n",
       "      <td>0500000US72001</td>\n",
       "      <td>72001</td>\n",
       "      <td>Adjuntas Municipio, Puerto Rico</td>\n",
       "      <td>19483</td>\n",
       "      <td>19483</td>\n",
       "      <td>19472</td>\n",
       "      <td>19297</td>\n",
       "      <td>19116</td>\n",
       "      <td>19019</td>\n",
       "      <td>18798</td>\n",
       "      <td>18560</td>\n",
       "      <td>18276</td>\n",
       "      <td>17971</td>\n",
       "    </tr>\n",
       "    <tr>\n",
       "      <th>1</th>\n",
       "      <td>0500000US72003</td>\n",
       "      <td>72003</td>\n",
       "      <td>Aguada Municipio, Puerto Rico</td>\n",
       "      <td>41959</td>\n",
       "      <td>41959</td>\n",
       "      <td>41913</td>\n",
       "      <td>41532</td>\n",
       "      <td>41107</td>\n",
       "      <td>40707</td>\n",
       "      <td>40135</td>\n",
       "      <td>39539</td>\n",
       "      <td>38853</td>\n",
       "      <td>38118</td>\n",
       "    </tr>\n",
       "    <tr>\n",
       "      <th>2</th>\n",
       "      <td>0500000US72005</td>\n",
       "      <td>72005</td>\n",
       "      <td>Aguadilla Municipio, Puerto Rico</td>\n",
       "      <td>60949</td>\n",
       "      <td>60949</td>\n",
       "      <td>60766</td>\n",
       "      <td>59976</td>\n",
       "      <td>58978</td>\n",
       "      <td>58036</td>\n",
       "      <td>57078</td>\n",
       "      <td>55808</td>\n",
       "      <td>54525</td>\n",
       "      <td>53164</td>\n",
       "    </tr>\n",
       "    <tr>\n",
       "      <th>3</th>\n",
       "      <td>0500000US72007</td>\n",
       "      <td>72007</td>\n",
       "      <td>Aguas Buenas Municipio, Puerto Rico</td>\n",
       "      <td>28659</td>\n",
       "      <td>28659</td>\n",
       "      <td>28652</td>\n",
       "      <td>28333</td>\n",
       "      <td>28052</td>\n",
       "      <td>27782</td>\n",
       "      <td>27350</td>\n",
       "      <td>26913</td>\n",
       "      <td>26382</td>\n",
       "      <td>25850</td>\n",
       "    </tr>\n",
       "    <tr>\n",
       "      <th>4</th>\n",
       "      <td>0500000US72009</td>\n",
       "      <td>72009</td>\n",
       "      <td>Aibonito Municipio, Puerto Rico</td>\n",
       "      <td>25900</td>\n",
       "      <td>25900</td>\n",
       "      <td>25874</td>\n",
       "      <td>25537</td>\n",
       "      <td>25205</td>\n",
       "      <td>24879</td>\n",
       "      <td>24448</td>\n",
       "      <td>24040</td>\n",
       "      <td>23566</td>\n",
       "      <td>23108</td>\n",
       "    </tr>\n",
       "  </tbody>\n",
       "</table>\n",
       "</div>"
      ],
      "text/plain": [
       "           GEO.id  GEO.id2                    GEO.display-label  rescen42010  \\\n",
       "0  0500000US72001    72001      Adjuntas Municipio, Puerto Rico        19483   \n",
       "1  0500000US72003    72003        Aguada Municipio, Puerto Rico        41959   \n",
       "2  0500000US72005    72005     Aguadilla Municipio, Puerto Rico        60949   \n",
       "3  0500000US72007    72007  Aguas Buenas Municipio, Puerto Rico        28659   \n",
       "4  0500000US72009    72009      Aibonito Municipio, Puerto Rico        25900   \n",
       "\n",
       "   resbase42010  respop72010  respop72011  respop72012  respop72013  \\\n",
       "0         19483        19472        19297        19116        19019   \n",
       "1         41959        41913        41532        41107        40707   \n",
       "2         60949        60766        59976        58978        58036   \n",
       "3         28659        28652        28333        28052        27782   \n",
       "4         25900        25874        25537        25205        24879   \n",
       "\n",
       "   respop72014  respop72015  respop72016  respop72017  \n",
       "0        18798        18560        18276        17971  \n",
       "1        40135        39539        38853        38118  \n",
       "2        57078        55808        54525        53164  \n",
       "3        27350        26913        26382        25850  \n",
       "4        24448        24040        23566        23108  "
      ]
     },
     "execution_count": 3,
     "metadata": {},
     "output_type": "execute_result"
    }
   ],
   "source": [
    "data = pd.read_csv(\"../data/PEP_2017_PEPANNRES.csv\", encoding='latin-1')\n",
    "data.head()"
   ]
  },
  {
   "cell_type": "markdown",
   "metadata": {},
   "source": [
    "#### Dealing with names in Spanish"
   ]
  },
  {
   "cell_type": "markdown",
   "metadata": {},
   "source": [
    "Spanish is a beautiful language, however, when dealing with names when programming, sometimes it's hard given some inconsistencies. This comes because of a wrong encoding of the files, typing some of the names in English and some in Spanish, or simply skiping 'weird' characters. To deal with this inconsistencies, we convert the names to their english-letter representation and to an upper case. This way we standarize all the names for all the files. \n",
    "\n",
    "Steps: \n",
    "\n",
    "* Extract the names of the municipalities from the strings\n",
    "* Convert the names to english-letter representation\n",
    "* Convert the strings to upper case format"
   ]
  },
  {
   "cell_type": "code",
   "execution_count": 4,
   "metadata": {},
   "outputs": [],
   "source": [
    "municipalities = []\n",
    "\n",
    "for i in range(0, 78):\n",
    "    muni_raw = data['GEO.display-label'][i].split(\" Municipio, Puerto Rico\")[0]\n",
    "    muni_clean = unidecode.unidecode(muni_raw)\n",
    "    muni_upper = muni_clean.upper()\n",
    "    municipalities.append(muni_upper)\n",
    "    \n",
    "data['ResidencePlace'] = municipalities "
   ]
  },
  {
   "cell_type": "code",
   "execution_count": 5,
   "metadata": {},
   "outputs": [
    {
     "data": {
      "text/html": [
       "<div>\n",
       "<style scoped>\n",
       "    .dataframe tbody tr th:only-of-type {\n",
       "        vertical-align: middle;\n",
       "    }\n",
       "\n",
       "    .dataframe tbody tr th {\n",
       "        vertical-align: top;\n",
       "    }\n",
       "\n",
       "    .dataframe thead th {\n",
       "        text-align: right;\n",
       "    }\n",
       "</style>\n",
       "<table border=\"1\" class=\"dataframe\">\n",
       "  <thead>\n",
       "    <tr style=\"text-align: right;\">\n",
       "      <th></th>\n",
       "      <th>ResidencePlace</th>\n",
       "      <th>respop72017</th>\n",
       "    </tr>\n",
       "  </thead>\n",
       "  <tbody>\n",
       "    <tr>\n",
       "      <th>0</th>\n",
       "      <td>ADJUNTAS</td>\n",
       "      <td>17971</td>\n",
       "    </tr>\n",
       "    <tr>\n",
       "      <th>1</th>\n",
       "      <td>AGUADA</td>\n",
       "      <td>38118</td>\n",
       "    </tr>\n",
       "    <tr>\n",
       "      <th>2</th>\n",
       "      <td>AGUADILLA</td>\n",
       "      <td>53164</td>\n",
       "    </tr>\n",
       "    <tr>\n",
       "      <th>3</th>\n",
       "      <td>AGUAS BUENAS</td>\n",
       "      <td>25850</td>\n",
       "    </tr>\n",
       "    <tr>\n",
       "      <th>4</th>\n",
       "      <td>AIBONITO</td>\n",
       "      <td>23108</td>\n",
       "    </tr>\n",
       "  </tbody>\n",
       "</table>\n",
       "</div>"
      ],
      "text/plain": [
       "  ResidencePlace  respop72017\n",
       "0       ADJUNTAS        17971\n",
       "1         AGUADA        38118\n",
       "2      AGUADILLA        53164\n",
       "3   AGUAS BUENAS        25850\n",
       "4       AIBONITO        23108"
      ]
     },
     "execution_count": 5,
     "metadata": {},
     "output_type": "execute_result"
    }
   ],
   "source": [
    "data_processed = data[['ResidencePlace', 'respop72017']]\n",
    "data_processed.head()"
   ]
  },
  {
   "cell_type": "markdown",
   "metadata": {},
   "source": [
    "#### Save the progress | Clean our directories"
   ]
  },
  {
   "cell_type": "markdown",
   "metadata": {},
   "source": [
    "Let's save the population estimates for 2017 to use the file later in our pipeline"
   ]
  },
  {
   "cell_type": "code",
   "execution_count": 6,
   "metadata": {},
   "outputs": [],
   "source": [
    "data_processed.to_csv(\"../data/census.csv\")"
   ]
  },
  {
   "cell_type": "markdown",
   "metadata": {},
   "source": [
    "Finally, clean the data directory to only remain with the files we need to reproduce this analysis and produce it's output. "
   ]
  },
  {
   "cell_type": "code",
   "execution_count": 7,
   "metadata": {},
   "outputs": [
    {
     "data": {
      "text/plain": [
       "0"
      ]
     },
     "execution_count": 7,
     "metadata": {},
     "output_type": "execute_result"
    }
   ],
   "source": [
    "os.system(\"rm ../data/PEP_2017_PEPANNRES.csv ../data/PEP_2017_PEPANNRES_metadata.csv ../data/PEP_2017_PEPANNRES.txt ../data/aff_download_readme.txt\")"
   ]
  },
  {
   "cell_type": "markdown",
   "metadata": {},
   "source": [
    "## Optional Questions\n",
    "\n",
    "1) What is the municipality with the highest population? How about the least?\n",
    "\n",
    "2) Which municipality changed the most between 2016 and 2017?\n",
    "\n",
    "3) How about between 2010 and 2017?\n",
    "\n",
    "4) Can you find the municipality that has stayed the most stable (less variability) between all these years?\n",
    "\n",
    "5) Are there some municipalities consistingly losing people and other winning them?"
   ]
  },
  {
   "cell_type": "markdown",
   "metadata": {},
   "source": [
    "<a rel=\"license\" href=\"http://creativecommons.org/licenses/by-sa/4.0/\"><img alt=\"Creative Commons Licence\" style=\"border-width:0\" src=\"https://i.creativecommons.org/l/by-sa/4.0/88x31.png\" /></a><br />This work is licensed under a <a rel=\"license\" href=\"http://creativecommons.org/licenses/by-sa/4.0/\">Creative Commons Attribution-ShareAlike 4.0 International License</a>."
   ]
  }
 ],
 "metadata": {
  "kernelspec": {
   "display_name": "Python 3",
   "language": "python",
   "name": "python3"
  },
  "language_info": {
   "codemirror_mode": {
    "name": "ipython",
    "version": 3
   },
   "file_extension": ".py",
   "mimetype": "text/x-python",
   "name": "python",
   "nbconvert_exporter": "python",
   "pygments_lexer": "ipython3",
   "version": "3.6.5"
  }
 },
 "nbformat": 4,
 "nbformat_minor": 2
}
