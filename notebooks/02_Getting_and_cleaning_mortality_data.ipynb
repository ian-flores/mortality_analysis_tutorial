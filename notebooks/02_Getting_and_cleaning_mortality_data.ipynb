{
 "cells": [
  {
   "cell_type": "markdown",
   "metadata": {},
   "source": [
    "# 02 - Getting and Cleaning Mortality Data\n",
    "### by Ian Flores Siaca\n",
    "##### October 2018"
   ]
  },
  {
   "cell_type": "markdown",
   "metadata": {},
   "source": [
    "## Purpose of this Notebook"
   ]
  },
  {
   "cell_type": "markdown",
   "metadata": {},
   "source": [
    "#### Learning\n",
    "* Use of `pandas` `group_by` function.\n",
    "* Filtering data with string content.\n",
    "\n",
    "#### Project\n",
    "* Compute the number of deaths per zone of each municipality.\n",
    "* Clean the name of the municipalities in the mortality dataset."
   ]
  },
  {
   "cell_type": "markdown",
   "metadata": {},
   "source": [
    "## Mortality Data"
   ]
  },
  {
   "cell_type": "markdown",
   "metadata": {},
   "source": [
    "![](../imgs/usa_today.png)"
   ]
  },
  {
   "cell_type": "markdown",
   "metadata": {},
   "source": [
    "Hurricane Maria struck Puerto Rico the 20th of September of 2017 at 6:15 a.m. entering through the municipality of Yabucoa as a Category 4 hurricane. According to the governments of Puerto Rico and the U.S. Virgin islands, the cost of the damage is estimated in $102 billion USD1. However, the impact wasn't only economical. Following a lawsuit presented by the Center for Investigative Journalism (CPI, by its spanish initials) and CNN, the Government of Puerto Rico, and more specifically the Demographic Registry, was forced to publish the individual-level data of all the deaths occurred from September 20, 2017 to June 11, 2018. This data is available in the following [Dropbox Link](https://www.dropbox.com/s/k4wrb1ztwu0fwxh/Base%20de%20Datos%20Mortalidad%20en%20PR%20de%20septiembre%2018%20de%202017%20a%2011%20de%20junio%20de%202018%20entregada%20por%20Gobierno%20de%20PR%20al%20CPI.xls?dl=0) from the CPI. "
   ]
  },
  {
   "cell_type": "markdown",
   "metadata": {},
   "source": [
    "## Let's code!"
   ]
  },
  {
   "cell_type": "markdown",
   "metadata": {},
   "source": [
    "#### Load the libraries"
   ]
  },
  {
   "cell_type": "code",
   "execution_count": 1,
   "metadata": {},
   "outputs": [],
   "source": [
    "import pandas as pd\n",
    "import os"
   ]
  },
  {
   "cell_type": "markdown",
   "metadata": {},
   "source": [
    "Here we are downloading the data directly from *Dropbox* and storing it under the `data/` folder in the `mortality.xlsx` file."
   ]
  },
  {
   "cell_type": "code",
   "execution_count": 8,
   "metadata": {},
   "outputs": [
    {
     "data": {
      "text/plain": [
       "0"
      ]
     },
     "execution_count": 8,
     "metadata": {},
     "output_type": "execute_result"
    }
   ],
   "source": [
    "os.system(\"wget --output-document='../data/mortality.xlsx' 'https://www.dropbox.com/s/k4wrb1ztwu0fwxh/Base%20de%20Datos%20Mortalidad%20en%20PR%20de%20septiembre%2018%20de%202017%20a%2011%20de%20junio%20de%202018%20entregada%20por%20Gobierno%20de%20PR%20al%20CPI.xls?dl=0'\")"
   ]
  },
  {
   "cell_type": "code",
   "execution_count": 9,
   "metadata": {
    "scrolled": true
   },
   "outputs": [
    {
     "data": {
      "text/html": [
       "<div>\n",
       "<style scoped>\n",
       "    .dataframe tbody tr th:only-of-type {\n",
       "        vertical-align: middle;\n",
       "    }\n",
       "\n",
       "    .dataframe tbody tr th {\n",
       "        vertical-align: top;\n",
       "    }\n",
       "\n",
       "    .dataframe thead th {\n",
       "        text-align: right;\n",
       "    }\n",
       "</style>\n",
       "<table border=\"1\" class=\"dataframe\">\n",
       "  <thead>\n",
       "    <tr style=\"text-align: right;\">\n",
       "      <th></th>\n",
       "      <th>DeathNumber</th>\n",
       "      <th>Volumen</th>\n",
       "      <th>CertificateNumber</th>\n",
       "      <th>InscriptionYear</th>\n",
       "      <th>RegistryOffice</th>\n",
       "      <th>RegistrationDate</th>\n",
       "      <th>RegistrationDate_Year</th>\n",
       "      <th>RegistrationDate_Month</th>\n",
       "      <th>RegistrationDate_Day</th>\n",
       "      <th>Name</th>\n",
       "      <th>...</th>\n",
       "      <th>FuneralDate</th>\n",
       "      <th>FuneralDate_Year</th>\n",
       "      <th>FuneralDate_Month</th>\n",
       "      <th>FuneralDate_Day</th>\n",
       "      <th>DispositionName</th>\n",
       "      <th>DispositionPlace</th>\n",
       "      <th>FuneralFacilityName</th>\n",
       "      <th>FuneralFacilityLicenseNumber</th>\n",
       "      <th>FuneralFacilityPlace</th>\n",
       "      <th>FuneralFacilityDirectorName</th>\n",
       "    </tr>\n",
       "  </thead>\n",
       "  <tbody>\n",
       "    <tr>\n",
       "      <th>0</th>\n",
       "      <td>20099</td>\n",
       "      <td>34</td>\n",
       "      <td>186</td>\n",
       "      <td>2017</td>\n",
       "      <td>88 - COAMO</td>\n",
       "      <td>2017-09-26</td>\n",
       "      <td>2017</td>\n",
       "      <td>9</td>\n",
       "      <td>26</td>\n",
       "      <td>GLORIA</td>\n",
       "      <td>...</td>\n",
       "      <td>2017-09-22 00:00:00</td>\n",
       "      <td>2017.0</td>\n",
       "      <td>9.0</td>\n",
       "      <td>22.0</td>\n",
       "      <td>PORTA COELI CREMATION PLUS</td>\n",
       "      <td>BAYAMON, PUERTO RICO</td>\n",
       "      <td>FUNERARIA COAMEÑA</td>\n",
       "      <td>NaN</td>\n",
       "      <td>COAMO, PUERTO RICO</td>\n",
       "      <td>DANIEL DIAZ AQUINIO</td>\n",
       "    </tr>\n",
       "    <tr>\n",
       "      <th>1</th>\n",
       "      <td>20147</td>\n",
       "      <td>34</td>\n",
       "      <td>1286</td>\n",
       "      <td>2017</td>\n",
       "      <td>44 - BAYAMON</td>\n",
       "      <td>2017-10-03</td>\n",
       "      <td>2017</td>\n",
       "      <td>10</td>\n",
       "      <td>3</td>\n",
       "      <td>MARISOL</td>\n",
       "      <td>...</td>\n",
       "      <td>2017-09-30 00:00:00</td>\n",
       "      <td>2017.0</td>\n",
       "      <td>9.0</td>\n",
       "      <td>30.0</td>\n",
       "      <td>MONTE CALVARIO</td>\n",
       "      <td>CAGUAS, PUERTO RICO</td>\n",
       "      <td>FUNERARIA ALTERNATIVE</td>\n",
       "      <td>NaN</td>\n",
       "      <td>BAYAMON, PUERTO RICO</td>\n",
       "      <td>HECTOR COLON</td>\n",
       "    </tr>\n",
       "    <tr>\n",
       "      <th>2</th>\n",
       "      <td>20160</td>\n",
       "      <td>34</td>\n",
       "      <td>1085</td>\n",
       "      <td>2017</td>\n",
       "      <td>1 - NIVEL CENTRAL</td>\n",
       "      <td>2017-10-03</td>\n",
       "      <td>2017</td>\n",
       "      <td>10</td>\n",
       "      <td>3</td>\n",
       "      <td>RAMON</td>\n",
       "      <td>...</td>\n",
       "      <td>2017-09-26 00:00:00</td>\n",
       "      <td>2017.0</td>\n",
       "      <td>9.0</td>\n",
       "      <td>26.0</td>\n",
       "      <td>MUNICIPAL NUEVO</td>\n",
       "      <td>ARECIBO, PUERTO RICO</td>\n",
       "      <td>GONZALEZ</td>\n",
       "      <td>NaN</td>\n",
       "      <td>ARECIBO, PUERTO RICO</td>\n",
       "      <td>ROLANDO VELEZ MENDEZ</td>\n",
       "    </tr>\n",
       "    <tr>\n",
       "      <th>3</th>\n",
       "      <td>20168</td>\n",
       "      <td>34</td>\n",
       "      <td>1089</td>\n",
       "      <td>2017</td>\n",
       "      <td>1 - NIVEL CENTRAL</td>\n",
       "      <td>2017-10-03</td>\n",
       "      <td>2017</td>\n",
       "      <td>10</td>\n",
       "      <td>3</td>\n",
       "      <td>GLORIA</td>\n",
       "      <td>...</td>\n",
       "      <td>2017-09-26 00:00:00</td>\n",
       "      <td>2017.0</td>\n",
       "      <td>9.0</td>\n",
       "      <td>26.0</td>\n",
       "      <td>NUEVO JERUSALEN</td>\n",
       "      <td>UTUADO, PUERTO RICO</td>\n",
       "      <td>UTUADO MEMORIAL</td>\n",
       "      <td>NaN</td>\n",
       "      <td>UTUADO, PUERTO RICO</td>\n",
       "      <td>OLGA SAVEDA</td>\n",
       "    </tr>\n",
       "    <tr>\n",
       "      <th>4</th>\n",
       "      <td>20169</td>\n",
       "      <td>34</td>\n",
       "      <td>1297</td>\n",
       "      <td>2017</td>\n",
       "      <td>44 - BAYAMON</td>\n",
       "      <td>2017-10-03</td>\n",
       "      <td>2017</td>\n",
       "      <td>10</td>\n",
       "      <td>3</td>\n",
       "      <td>LUIS</td>\n",
       "      <td>...</td>\n",
       "      <td>2017-09-30 00:00:00</td>\n",
       "      <td>2017.0</td>\n",
       "      <td>9.0</td>\n",
       "      <td>30.0</td>\n",
       "      <td>NEW HORIZONS</td>\n",
       "      <td>BAYAMON, PUERTO RICO</td>\n",
       "      <td>FUNERARIA ASENCIO</td>\n",
       "      <td>NaN</td>\n",
       "      <td>BAYAMON, PUERTO RICO</td>\n",
       "      <td>MELVIN PORTALATIN MONTALVO</td>\n",
       "    </tr>\n",
       "  </tbody>\n",
       "</table>\n",
       "<p>5 rows × 187 columns</p>\n",
       "</div>"
      ],
      "text/plain": [
       "   DeathNumber  Volumen  CertificateNumber  InscriptionYear  \\\n",
       "0        20099       34                186             2017   \n",
       "1        20147       34               1286             2017   \n",
       "2        20160       34               1085             2017   \n",
       "3        20168       34               1089             2017   \n",
       "4        20169       34               1297             2017   \n",
       "\n",
       "      RegistryOffice RegistrationDate  RegistrationDate_Year  \\\n",
       "0         88 - COAMO       2017-09-26                   2017   \n",
       "1       44 - BAYAMON       2017-10-03                   2017   \n",
       "2  1 - NIVEL CENTRAL       2017-10-03                   2017   \n",
       "3  1 - NIVEL CENTRAL       2017-10-03                   2017   \n",
       "4       44 - BAYAMON       2017-10-03                   2017   \n",
       "\n",
       "   RegistrationDate_Month  RegistrationDate_Day     Name  \\\n",
       "0                       9                    26   GLORIA   \n",
       "1                      10                     3  MARISOL   \n",
       "2                      10                     3    RAMON   \n",
       "3                      10                     3   GLORIA   \n",
       "4                      10                     3     LUIS   \n",
       "\n",
       "              ...                       FuneralDate FuneralDate_Year  \\\n",
       "0             ...               2017-09-22 00:00:00           2017.0   \n",
       "1             ...               2017-09-30 00:00:00           2017.0   \n",
       "2             ...               2017-09-26 00:00:00           2017.0   \n",
       "3             ...               2017-09-26 00:00:00           2017.0   \n",
       "4             ...               2017-09-30 00:00:00           2017.0   \n",
       "\n",
       "  FuneralDate_Month FuneralDate_Day             DispositionName  \\\n",
       "0               9.0            22.0  PORTA COELI CREMATION PLUS   \n",
       "1               9.0            30.0             MONTE CALVARIO    \n",
       "2               9.0            26.0             MUNICIPAL NUEVO   \n",
       "3               9.0            26.0            NUEVO JERUSALEN    \n",
       "4               9.0            30.0               NEW HORIZONS    \n",
       "\n",
       "       DispositionPlace    FuneralFacilityName FuneralFacilityLicenseNumber  \\\n",
       "0  BAYAMON, PUERTO RICO      FUNERARIA COAMEÑA                          NaN   \n",
       "1   CAGUAS, PUERTO RICO  FUNERARIA ALTERNATIVE                          NaN   \n",
       "2  ARECIBO, PUERTO RICO              GONZALEZ                           NaN   \n",
       "3   UTUADO, PUERTO RICO       UTUADO MEMORIAL                           NaN   \n",
       "4  BAYAMON, PUERTO RICO      FUNERARIA ASENCIO                          NaN   \n",
       "\n",
       "   FuneralFacilityPlace  FuneralFacilityDirectorName  \n",
       "0    COAMO, PUERTO RICO          DANIEL DIAZ AQUINIO  \n",
       "1  BAYAMON, PUERTO RICO                 HECTOR COLON  \n",
       "2  ARECIBO, PUERTO RICO        ROLANDO VELEZ MENDEZ   \n",
       "3   UTUADO, PUERTO RICO                  OLGA SAVEDA  \n",
       "4  BAYAMON, PUERTO RICO  MELVIN PORTALATIN MONTALVO   \n",
       "\n",
       "[5 rows x 187 columns]"
      ]
     },
     "execution_count": 9,
     "metadata": {},
     "output_type": "execute_result"
    }
   ],
   "source": [
    "data = pd.read_excel(\"../data/mortality.xlsx\")\n",
    "data.head()"
   ]
  },
  {
   "cell_type": "markdown",
   "metadata": {},
   "source": [
    "#### Filtering the data\n",
    "\n",
    "* We are using the ResidencePlace column as the column for the Municipality\n",
    "* There is people that died in Puerto Rico, but there residence place is not Puerto Rico, we want to exclude those data points from the analysis. \n",
    "    * `data[data.ResidencePlace.str.contains('PUERTO RICO')]`\n",
    "* We also want to exclude those people we don't know their municipality of residence.\n",
    "    * `data[data.ResidenceZone != 'DESCONOCIDO']`"
   ]
  },
  {
   "cell_type": "code",
   "execution_count": 4,
   "metadata": {},
   "outputs": [],
   "source": [
    "data = data[data.ResidencePlace.str.contains('PUERTO RICO')]\n",
    "data = data[data.ResidencePlace != 'PUERTO RICO, DESCONOCIDO']\n",
    "data = data[data.ResidenceZone != 'DESCONOCIDO']"
   ]
  },
  {
   "cell_type": "markdown",
   "metadata": {},
   "source": [
    "#### Grouping the data\n",
    "We want to compute the number of deaths in each zone of each municipality:\n",
    "* Group by `ResidencePlace` and `ResidenceZone`\n",
    "    * `data.groupby(['ResidencePlace', 'ResidenceZone'])`\n",
    "* Calculate the number of deaths per zone of each municipality\n",
    "    * `data.groupby(['ResidencePlace', 'ResidenceZone']).size().reset_index(name='Deaths')`"
   ]
  },
  {
   "cell_type": "code",
   "execution_count": 5,
   "metadata": {},
   "outputs": [
    {
     "data": {
      "text/html": [
       "<div>\n",
       "<style scoped>\n",
       "    .dataframe tbody tr th:only-of-type {\n",
       "        vertical-align: middle;\n",
       "    }\n",
       "\n",
       "    .dataframe tbody tr th {\n",
       "        vertical-align: top;\n",
       "    }\n",
       "\n",
       "    .dataframe thead th {\n",
       "        text-align: right;\n",
       "    }\n",
       "</style>\n",
       "<table border=\"1\" class=\"dataframe\">\n",
       "  <thead>\n",
       "    <tr style=\"text-align: right;\">\n",
       "      <th></th>\n",
       "      <th>ResidencePlace</th>\n",
       "      <th>ResidenceZone</th>\n",
       "      <th>Deaths</th>\n",
       "    </tr>\n",
       "  </thead>\n",
       "  <tbody>\n",
       "    <tr>\n",
       "      <th>0</th>\n",
       "      <td>PUERTO RICO, ADJUNTAS</td>\n",
       "      <td>RURAL</td>\n",
       "      <td>63</td>\n",
       "    </tr>\n",
       "    <tr>\n",
       "      <th>1</th>\n",
       "      <td>PUERTO RICO, ADJUNTAS</td>\n",
       "      <td>URBANO</td>\n",
       "      <td>50</td>\n",
       "    </tr>\n",
       "    <tr>\n",
       "      <th>2</th>\n",
       "      <td>PUERTO RICO, AGUADA</td>\n",
       "      <td>RURAL</td>\n",
       "      <td>165</td>\n",
       "    </tr>\n",
       "    <tr>\n",
       "      <th>3</th>\n",
       "      <td>PUERTO RICO, AGUADA</td>\n",
       "      <td>URBANO</td>\n",
       "      <td>37</td>\n",
       "    </tr>\n",
       "    <tr>\n",
       "      <th>4</th>\n",
       "      <td>PUERTO RICO, AGUADILLA</td>\n",
       "      <td>RURAL</td>\n",
       "      <td>320</td>\n",
       "    </tr>\n",
       "  </tbody>\n",
       "</table>\n",
       "</div>"
      ],
      "text/plain": [
       "           ResidencePlace ResidenceZone  Deaths\n",
       "0   PUERTO RICO, ADJUNTAS         RURAL      63\n",
       "1   PUERTO RICO, ADJUNTAS        URBANO      50\n",
       "2     PUERTO RICO, AGUADA         RURAL     165\n",
       "3     PUERTO RICO, AGUADA        URBANO      37\n",
       "4  PUERTO RICO, AGUADILLA         RURAL     320"
      ]
     },
     "execution_count": 5,
     "metadata": {},
     "output_type": "execute_result"
    }
   ],
   "source": [
    "df_grp = data.groupby(['ResidencePlace', 'ResidenceZone']).size().reset_index(name='Deaths')\n",
    "df_grp.head()"
   ]
  },
  {
   "cell_type": "markdown",
   "metadata": {},
   "source": [
    "#### Extract the name of the municipalities from the `ResidencePlace` column"
   ]
  },
  {
   "cell_type": "code",
   "execution_count": 6,
   "metadata": {},
   "outputs": [],
   "source": [
    "municipalities = df_grp.ResidencePlace.tolist()\n",
    "\n",
    "for i in range(0,len(municipalities)):\n",
    "    municipalities[i] = municipalities[i].split(\"PUERTO RICO, \")[1]"
   ]
  },
  {
   "cell_type": "code",
   "execution_count": 7,
   "metadata": {},
   "outputs": [
    {
     "data": {
      "text/html": [
       "<div>\n",
       "<style scoped>\n",
       "    .dataframe tbody tr th:only-of-type {\n",
       "        vertical-align: middle;\n",
       "    }\n",
       "\n",
       "    .dataframe tbody tr th {\n",
       "        vertical-align: top;\n",
       "    }\n",
       "\n",
       "    .dataframe thead th {\n",
       "        text-align: right;\n",
       "    }\n",
       "</style>\n",
       "<table border=\"1\" class=\"dataframe\">\n",
       "  <thead>\n",
       "    <tr style=\"text-align: right;\">\n",
       "      <th></th>\n",
       "      <th>ResidencePlace</th>\n",
       "      <th>ResidenceZone</th>\n",
       "      <th>Deaths</th>\n",
       "    </tr>\n",
       "  </thead>\n",
       "  <tbody>\n",
       "    <tr>\n",
       "      <th>0</th>\n",
       "      <td>ADJUNTAS</td>\n",
       "      <td>RURAL</td>\n",
       "      <td>63</td>\n",
       "    </tr>\n",
       "    <tr>\n",
       "      <th>1</th>\n",
       "      <td>ADJUNTAS</td>\n",
       "      <td>URBANO</td>\n",
       "      <td>50</td>\n",
       "    </tr>\n",
       "    <tr>\n",
       "      <th>2</th>\n",
       "      <td>AGUADA</td>\n",
       "      <td>RURAL</td>\n",
       "      <td>165</td>\n",
       "    </tr>\n",
       "    <tr>\n",
       "      <th>3</th>\n",
       "      <td>AGUADA</td>\n",
       "      <td>URBANO</td>\n",
       "      <td>37</td>\n",
       "    </tr>\n",
       "    <tr>\n",
       "      <th>4</th>\n",
       "      <td>AGUADILLA</td>\n",
       "      <td>RURAL</td>\n",
       "      <td>320</td>\n",
       "    </tr>\n",
       "  </tbody>\n",
       "</table>\n",
       "</div>"
      ],
      "text/plain": [
       "  ResidencePlace ResidenceZone  Deaths\n",
       "0       ADJUNTAS         RURAL      63\n",
       "1       ADJUNTAS        URBANO      50\n",
       "2         AGUADA         RURAL     165\n",
       "3         AGUADA        URBANO      37\n",
       "4      AGUADILLA         RURAL     320"
      ]
     },
     "execution_count": 7,
     "metadata": {},
     "output_type": "execute_result"
    }
   ],
   "source": [
    "df_grp.ResidencePlace = pd.Series(municipalities)\n",
    "df_grp.head()"
   ]
  },
  {
   "cell_type": "markdown",
   "metadata": {},
   "source": [
    "#### Save our DataFrame as a CSV for future analysis"
   ]
  },
  {
   "cell_type": "code",
   "execution_count": 10,
   "metadata": {},
   "outputs": [],
   "source": [
    "df_grp.to_csv(\"../data/mortality_grouped.csv\")"
   ]
  },
  {
   "cell_type": "markdown",
   "metadata": {},
   "source": [
    "## Optional Questions\n",
    "\n",
    "1) Did more women died or men?\n",
    "\n",
    "2) Which month had the higher mortality?\n",
    "\n",
    "3) Which was the average age of death? Did more infants died or older people?\n",
    "\n",
    "4) Do you see any patterns in years of education?\n",
    "\n",
    "5) Do you notice any patter in the ResidencePlace vs the Death Registry municipality? Why is this?"
   ]
  },
  {
   "cell_type": "markdown",
   "metadata": {},
   "source": [
    "<a rel=\"license\" href=\"http://creativecommons.org/licenses/by-sa/4.0/\"><img alt=\"Creative Commons Licence\" style=\"border-width:0\" src=\"https://i.creativecommons.org/l/by-sa/4.0/88x31.png\" /></a><br />This work is licensed under a <a rel=\"license\" href=\"http://creativecommons.org/licenses/by-sa/4.0/\">Creative Commons Attribution-ShareAlike 4.0 International License</a>."
   ]
  }
 ],
 "metadata": {
  "kernelspec": {
   "display_name": "Python 3",
   "language": "python",
   "name": "python3"
  },
  "language_info": {
   "codemirror_mode": {
    "name": "ipython",
    "version": 3
   },
   "file_extension": ".py",
   "mimetype": "text/x-python",
   "name": "python",
   "nbconvert_exporter": "python",
   "pygments_lexer": "ipython3",
   "version": "3.6.5"
  }
 },
 "nbformat": 4,
 "nbformat_minor": 2
}
