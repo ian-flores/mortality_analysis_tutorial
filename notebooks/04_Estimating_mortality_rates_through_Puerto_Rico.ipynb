{
 "cells": [
  {
   "cell_type": "markdown",
   "metadata": {},
   "source": [
    "#  04 - Estimating Mortality Rates through Puerto Rico\n",
    "### by Ian Flores Siaca\n",
    "##### October 2018"
   ]
  },
  {
   "cell_type": "markdown",
   "metadata": {},
   "source": [
    "## Purpose of this Notebook\n",
    "\n",
    "#### Learning\n",
    "* Getting to know the `PyMC3` library\n",
    "* Starting to think about Bayesian methods\n",
    "* Think about uncertainty in the estimates instead of *significance vs no-significance* (*Not a fan of the p-value)\n",
    "\n",
    "#### Project\n",
    "* Estimate the mortality rate for urban areas as compared to rural areas.\n",
    "* Identify which area needs more attention for future disasters."
   ]
  },
  {
   "cell_type": "markdown",
   "metadata": {},
   "source": [
    "### Bayesian methods\n",
    "\n",
    "#### Bayesian Paradigm\n",
    "** What if we have previous knowledge, or have expert knowledge regarding a certain subject that we would like to incorporate? ** With Bayesian methods, we can set something that is called a prior, which is a distribution for each parameter of the phenomenom we want to estimate or  test. We combine this priors with the data (a.k.a Likelihood) to obtain a posterior distribution which allows us the necessary inference.\n",
    "\n",
    "> DISCLAIMER: Priors are controversial as some people have suggested that one can skew the results of the posterior distribution by setting the priors to certain values. This might be true in cases of few data points, however, in an open and reproducible science approach this should not be a concern as everyone alse can see your work. This is a big difference between using tools such as `R` and `Python` as compared to other click-and-touch software.\n",
    "\n",
    "<img src=\"https://images.theconversation.com/files/166189/original/file-20170420-20093-1va7shd.jpg\" height=\"400\" width=\"300\">\n",
    "\n",
    "[Source: The Conversation](https://theconversation.com/bayes-theorem-the-maths-tool-we-probably-use-every-day-but-what-is-it-76140)\n",
    "\n",
    "### History\n",
    "* Thomas Bayes discovered it.\n",
    "* Pierre-Simon Laplace greatly expanded the methods working with demographic data from France\n",
    "    * Didn't know about Bayes discovery as British-French relations at the moment weren't great, even though Laplace was almost two centuries later. \n",
    "    * Also invented the Central Limit Theorem, a crucial mathematical concept to understand computation bayesian methods.\n",
    "    * Invented the mathematical system for inductive reasoning in probability. \n",
    "    \n",
    "### Uses\n",
    "\n",
    "* Misile production estimation\n",
    "    * Estimating the number of tanks the German Nazis were producing per factory\n",
    "* Cracking the encryption\n",
    "    * Breaking the Lorenz cipher using Bayesian methods\n",
    "* Coast Guard Searchs\n",
    "    * Searhing by quadrants for submarines in the Atlantic Ocean\n",
    "* Election Prediction"
   ]
  },
  {
   "cell_type": "markdown",
   "metadata": {},
   "source": [
    "### Let's code\n",
    "\n",
    "#### Load the libraries"
   ]
  },
  {
   "cell_type": "code",
   "execution_count": 1,
   "metadata": {},
   "outputs": [
    {
     "name": "stderr",
     "output_type": "stream",
     "text": [
      "/home/kropotkin/anaconda3/lib/python3.6/site-packages/h5py/__init__.py:36: FutureWarning: Conversion of the second argument of issubdtype from `float` to `np.floating` is deprecated. In future, it will be treated as `np.float64 == np.dtype(float).type`.\n",
      "  from ._conv import register_converters as _register_converters\n"
     ]
    }
   ],
   "source": [
    "import pandas as pd\n",
    "import numpy as np\n",
    "import pymc3 as pm\n",
    "import matplotlib.pyplot as plt"
   ]
  },
  {
   "cell_type": "markdown",
   "metadata": {},
   "source": [
    "#### Load the data"
   ]
  },
  {
   "cell_type": "code",
   "execution_count": 2,
   "metadata": {},
   "outputs": [],
   "source": [
    "census_data = pd.read_csv(\"../data/census.csv\")\n",
    "census_data = census_data.drop(['Unnamed: 0'], axis = 1)"
   ]
  },
  {
   "cell_type": "code",
   "execution_count": 3,
   "metadata": {},
   "outputs": [],
   "source": [
    "mortality_data = pd.read_csv(\"../data/mortality_grouped.csv\")\n",
    "mortality_data = mortality_data.drop(['Unnamed: 0'], axis = 1)"
   ]
  },
  {
   "cell_type": "markdown",
   "metadata": {},
   "source": [
    "#### Calculating mortality rates\n",
    "* We first join the census data to the mortality DataFrame. This order matters as the mortality DataFrame has more information than the census data. \n",
    "* We then divide the number of deaths by the number of people in each municipality and the multiply by 1000 to get the mortality rate per 1000 people. "
   ]
  },
  {
   "cell_type": "code",
   "execution_count": 4,
   "metadata": {
    "scrolled": false
   },
   "outputs": [
    {
     "data": {
      "text/html": [
       "<div>\n",
       "<style scoped>\n",
       "    .dataframe tbody tr th:only-of-type {\n",
       "        vertical-align: middle;\n",
       "    }\n",
       "\n",
       "    .dataframe tbody tr th {\n",
       "        vertical-align: top;\n",
       "    }\n",
       "\n",
       "    .dataframe thead th {\n",
       "        text-align: right;\n",
       "    }\n",
       "</style>\n",
       "<table border=\"1\" class=\"dataframe\">\n",
       "  <thead>\n",
       "    <tr style=\"text-align: right;\">\n",
       "      <th></th>\n",
       "      <th>ResidencePlace</th>\n",
       "      <th>ResidenceZone</th>\n",
       "      <th>Deaths</th>\n",
       "      <th>respop72017</th>\n",
       "      <th>death_rate</th>\n",
       "    </tr>\n",
       "  </thead>\n",
       "  <tbody>\n",
       "    <tr>\n",
       "      <th>0</th>\n",
       "      <td>ADJUNTAS</td>\n",
       "      <td>RURAL</td>\n",
       "      <td>63</td>\n",
       "      <td>17971</td>\n",
       "      <td>3.505648</td>\n",
       "    </tr>\n",
       "    <tr>\n",
       "      <th>1</th>\n",
       "      <td>ADJUNTAS</td>\n",
       "      <td>URBANO</td>\n",
       "      <td>50</td>\n",
       "      <td>17971</td>\n",
       "      <td>2.782260</td>\n",
       "    </tr>\n",
       "    <tr>\n",
       "      <th>2</th>\n",
       "      <td>AGUADA</td>\n",
       "      <td>RURAL</td>\n",
       "      <td>165</td>\n",
       "      <td>38118</td>\n",
       "      <td>4.328664</td>\n",
       "    </tr>\n",
       "    <tr>\n",
       "      <th>3</th>\n",
       "      <td>AGUADA</td>\n",
       "      <td>URBANO</td>\n",
       "      <td>37</td>\n",
       "      <td>38118</td>\n",
       "      <td>0.970670</td>\n",
       "    </tr>\n",
       "    <tr>\n",
       "      <th>4</th>\n",
       "      <td>AGUADILLA</td>\n",
       "      <td>RURAL</td>\n",
       "      <td>320</td>\n",
       "      <td>53164</td>\n",
       "      <td>6.019111</td>\n",
       "    </tr>\n",
       "  </tbody>\n",
       "</table>\n",
       "</div>"
      ],
      "text/plain": [
       "  ResidencePlace ResidenceZone  Deaths  respop72017  death_rate\n",
       "0       ADJUNTAS         RURAL      63        17971    3.505648\n",
       "1       ADJUNTAS        URBANO      50        17971    2.782260\n",
       "2         AGUADA         RURAL     165        38118    4.328664\n",
       "3         AGUADA        URBANO      37        38118    0.970670\n",
       "4      AGUADILLA         RURAL     320        53164    6.019111"
      ]
     },
     "execution_count": 4,
     "metadata": {},
     "output_type": "execute_result"
    }
   ],
   "source": [
    "df = mortality_data.merge(census_data, on='ResidencePlace')\n",
    "df['death_rate'] = (df['Deaths']/df['respop72017']) * 1000\n",
    "df.head()"
   ]
  },
  {
   "cell_type": "markdown",
   "metadata": {},
   "source": [
    "Here we are making two DataFrames, one with the information for the rural zones and one for the urban zones."
   ]
  },
  {
   "cell_type": "code",
   "execution_count": 5,
   "metadata": {},
   "outputs": [],
   "source": [
    "rural = df[df['ResidenceZone'] == 'RURAL']['death_rate']\n",
    "urban = df[df['ResidenceZone'] == 'URBANO']['death_rate']"
   ]
  },
  {
   "cell_type": "markdown",
   "metadata": {},
   "source": [
    "`PyMC3`, the package we are using for Bayesian estimation, requires the data in a certain structure, which is what we are doing in this code cell below. "
   ]
  },
  {
   "cell_type": "code",
   "execution_count": 6,
   "metadata": {},
   "outputs": [
    {
     "data": {
      "text/html": [
       "<div>\n",
       "<style scoped>\n",
       "    .dataframe tbody tr th:only-of-type {\n",
       "        vertical-align: middle;\n",
       "    }\n",
       "\n",
       "    .dataframe tbody tr th {\n",
       "        vertical-align: top;\n",
       "    }\n",
       "\n",
       "    .dataframe thead th {\n",
       "        text-align: right;\n",
       "    }\n",
       "</style>\n",
       "<table border=\"1\" class=\"dataframe\">\n",
       "  <thead>\n",
       "    <tr style=\"text-align: right;\">\n",
       "      <th></th>\n",
       "      <th>death_rate</th>\n",
       "      <th>group</th>\n",
       "    </tr>\n",
       "  </thead>\n",
       "  <tbody>\n",
       "    <tr>\n",
       "      <th>0</th>\n",
       "      <td>3.505648</td>\n",
       "      <td>rural</td>\n",
       "    </tr>\n",
       "    <tr>\n",
       "      <th>1</th>\n",
       "      <td>4.328664</td>\n",
       "      <td>rural</td>\n",
       "    </tr>\n",
       "    <tr>\n",
       "      <th>2</th>\n",
       "      <td>6.019111</td>\n",
       "      <td>rural</td>\n",
       "    </tr>\n",
       "    <tr>\n",
       "      <th>3</th>\n",
       "      <td>5.299807</td>\n",
       "      <td>rural</td>\n",
       "    </tr>\n",
       "    <tr>\n",
       "      <th>4</th>\n",
       "      <td>4.111130</td>\n",
       "      <td>rural</td>\n",
       "    </tr>\n",
       "  </tbody>\n",
       "</table>\n",
       "</div>"
      ],
      "text/plain": [
       "   death_rate  group\n",
       "0    3.505648  rural\n",
       "1    4.328664  rural\n",
       "2    6.019111  rural\n",
       "3    5.299807  rural\n",
       "4    4.111130  rural"
      ]
     },
     "execution_count": 6,
     "metadata": {},
     "output_type": "execute_result"
    }
   ],
   "source": [
    "total = pd.DataFrame(dict(death_rate = np.r_[rural, urban],\n",
    "                         group = np.r_[['rural']* len(rural), \n",
    "                                      ['urban'] * len(urban)]))\n",
    "total.head()"
   ]
  },
  {
   "cell_type": "markdown",
   "metadata": {},
   "source": [
    "#### Priors\n",
    "\n",
    "As mentioned before, when doing bayesian estimation we need to set our priors. In this case I'm stating that our priors for the mean mortality rate in each zone should be close to the total death rate. In this case, I am modeling this priors with a TruncatedNormal distribution, bounded between 0 and a 1000, from the `PyMC3` library. This would mean the extreme of either no one dying or everyone dying respectively. As we don't know much about the variability of the data, we model it for both zones with a Uniform distribution between 0 and 10. `v` is the degrees of freedom, we are centering the mean around 2 in this case with a Gamma distribution. "
   ]
  },
  {
   "cell_type": "code",
   "execution_count": 7,
   "metadata": {},
   "outputs": [],
   "source": [
    "mu_total = total.death_rate.mean()\n",
    "std_total = total.death_rate.std()"
   ]
  },
  {
   "cell_type": "code",
   "execution_count": 8,
   "metadata": {},
   "outputs": [],
   "source": [
    "with pm.Model() as model:\n",
    "    rural_mean = pm.TruncatedNormal('rural_mean', \n",
    "                                    mu = mu_total, \n",
    "                                    sd = std_total, \n",
    "                                    lower = 0, upper = 1000)\n",
    "    urban_mean = pm.TruncatedNormal('urban_mean', \n",
    "                                    mu = mu_total, \n",
    "                                    sd = std_total, \n",
    "                                    lower = 0, upper = 1000)"
   ]
  },
  {
   "cell_type": "code",
   "execution_count": 9,
   "metadata": {},
   "outputs": [],
   "source": [
    "std_low = 0\n",
    "std_high = 10\n",
    "\n",
    "with model:\n",
    "    rural_std = pm.Uniform('rural_std', lower = std_low,\n",
    "                          upper = std_high)\n",
    "    urban_std = pm.Uniform('urban_std', lower = std_low, \n",
    "                          upper = std_high)"
   ]
  },
  {
   "cell_type": "code",
   "execution_count": 10,
   "metadata": {},
   "outputs": [],
   "source": [
    "with model:\n",
    "    v = pm.Gamma('v', alpha = 3, beta = 1)"
   ]
  },
  {
   "cell_type": "markdown",
   "metadata": {},
   "source": [
    "#### Likelihood"
   ]
  },
  {
   "cell_type": "markdown",
   "metadata": {},
   "source": [
    "In this code cell we are describing the final distribution, which is a StudentT distribution to compare the mean of the two groups at the end. We are passing the different arguments to the distribution and at the end with the `observed` argument we are feeding the model the data we have observed. "
   ]
  },
  {
   "cell_type": "code",
   "execution_count": 11,
   "metadata": {},
   "outputs": [],
   "source": [
    "with model:\n",
    "    lambda_rural = rural_std**-2\n",
    "    lambda_urban = urban_std**-2\n",
    "    \n",
    "    rural_try = pm.StudentT('rural', nu = v, mu = rural_mean, \n",
    "                            lam = lambda_rural, observed = rural)\n",
    "    urban_try = pm.StudentT('urban', nu = v, mu = urban_mean, \n",
    "                           lam = lambda_urban, observed = urban)"
   ]
  },
  {
   "cell_type": "markdown",
   "metadata": {},
   "source": [
    "Here, we are calculating the differences of the resulting distributions to see if there is a difference between both zones."
   ]
  },
  {
   "cell_type": "code",
   "execution_count": 12,
   "metadata": {},
   "outputs": [],
   "source": [
    "with model:\n",
    "    diff_of_means = pm.Deterministic('difference of means', \n",
    "                                     rural_mean - urban_mean)\n",
    "    \n",
    "    diff_of_stds = pm.Deterministic('difference of stds', \n",
    "                                    rural_std - urban_std)"
   ]
  },
  {
   "cell_type": "markdown",
   "metadata": {},
   "source": [
    "#### Sampling"
   ]
  },
  {
   "cell_type": "markdown",
   "metadata": {},
   "source": [
    "We are going to take samples from this distributions, in our case it will be 20,000 samples, over 4 cores, discarding the first 15,000 samples in each chain. This leaves us with a total of 140,000 samples from the distributions. "
   ]
  },
  {
   "cell_type": "code",
   "execution_count": 15,
   "metadata": {
    "scrolled": true
   },
   "outputs": [
    {
     "name": "stderr",
     "output_type": "stream",
     "text": [
      "Auto-assigning NUTS sampler...\n",
      "Initializing NUTS using jitter+adapt_diag...\n",
      "Multiprocess sampling (4 chains in 4 jobs)\n",
      "NUTS: [v, urban_std, rural_std, urban_mean, rural_mean]\n",
      "Sampling 4 chains: 100%|██████████| 140000/140000 [01:21<00:00, 1714.77draws/s]\n"
     ]
    }
   ],
   "source": [
    "with model:\n",
    "    trace = pm.sample(20000, cores = 4, tune = 15000)"
   ]
  },
  {
   "cell_type": "markdown",
   "metadata": {},
   "source": [
    "Let's look at the posterior of the mean of the mortality rate in urban zones. What do you see?"
   ]
  },
  {
   "cell_type": "code",
   "execution_count": 17,
   "metadata": {},
   "outputs": [
    {
     "data": {
      "text/plain": [
       "<matplotlib.axes._subplots.AxesSubplot at 0x7fad46d4c588>"
      ]
     },
     "execution_count": 17,
     "metadata": {},
     "output_type": "execute_result"
    },
    {
     "data": {
      "image/png": "[encoded data removed]",
      "text/plain": [
       "<Figure size 432x288 with 1 Axes>"
      ]
     },
     "metadata": {},
     "output_type": "display_data"
    }
   ],
   "source": [
    "pm.plot_posterior(trace, varnames = ['urban_mean'], color = '#0d98ba')"
   ]
  },
  {
   "cell_type": "markdown",
   "metadata": {},
   "source": [
    "We can observe that the mean is centered around 2.142 with a 95% chance that the real number is between 1.862 and 2.429, which means that we can say that in average, for every 1000 people, 2 died in urban zones. Below we can see that the standard deviation for the urban zones is 1.063. "
   ]
  },
  {
   "cell_type": "code",
   "execution_count": 18,
   "metadata": {},
   "outputs": [
    {
     "data": {
      "text/plain": [
       "<matplotlib.axes._subplots.AxesSubplot at 0x7fad35509978>"
      ]
     },
     "execution_count": 18,
     "metadata": {},
     "output_type": "execute_result"
    },
    {
     "data": {
      "image/png": "[encoded data removed]",
      "text/plain": [
       "<Figure size 432x288 with 1 Axes>"
      ]
     },
     "metadata": {},
     "output_type": "display_data"
    }
   ],
   "source": [
    "pm.plot_posterior(trace, varnames = ['urban_std'], color = '#0d98ba')"
   ]
  },
  {
   "cell_type": "markdown",
   "metadata": {},
   "source": [
    "Now, let's look at the posterior of the mean of the mortality rate in rural zones. Do you notice a difference?"
   ]
  },
  {
   "cell_type": "code",
   "execution_count": 115,
   "metadata": {},
   "outputs": [
    {
     "data": {
      "image/png": "[encoded data removed]",
      "text/plain": [
       "<Figure size 432x288 with 1 Axes>"
      ]
     },
     "metadata": {},
     "output_type": "display_data"
    }
   ],
   "source": [
    "pm.plot_posterior(trace, varnames = ['rural_mean'], color = '#0d98ba')"
   ]
  },
  {
   "cell_type": "markdown",
   "metadata": {},
   "source": [
    "We can observe that the mean is centered around 4.126 with a 95% chance that the real number is between 3.81 and 4.451, which means that we can say that in average, for every 1000 people, 4 died in rural zones. Below we can see that the standard deviation for the rural zones is 1.207, which means that the variability between urban and rural zones was similar. "
   ]
  },
  {
   "cell_type": "code",
   "execution_count": 124,
   "metadata": {},
   "outputs": [
    {
     "data": {
      "image/png": "[encoded data removed]",
      "text/plain": [
       "<Figure size 432x288 with 1 Axes>"
      ]
     },
     "metadata": {},
     "output_type": "display_data"
    }
   ],
   "source": [
    "pm.plot_posterior(trace, varnames = ['rural_std'], color = '#0d98ba')"
   ]
  },
  {
   "cell_type": "markdown",
   "metadata": {},
   "source": [
    "However, how does the rural distribution as a whole compare to the urban distribution?"
   ]
  },
  {
   "cell_type": "code",
   "execution_count": 128,
   "metadata": {},
   "outputs": [
    {
     "data": {
      "image/png": "[encoded data removed]",
      "text/plain": [
       "<Figure size 432x288 with 1 Axes>"
      ]
     },
     "metadata": {},
     "output_type": "display_data"
    }
   ],
   "source": [
    "pm.plot_posterior(trace, varnames = ['difference of means'], color = '#0d98ba', ref_val=0)"
   ]
  },
  {
   "cell_type": "markdown",
   "metadata": {},
   "source": [
    "Above we can see that approximately, in avergae, 2 more people died in rural zones as compared to urban zones. "
   ]
  },
  {
   "cell_type": "code",
   "execution_count": 19,
   "metadata": {},
   "outputs": [
    {
     "data": {
      "text/plain": [
       "<matplotlib.gridspec.GridSpec at 0x7fad35454be0>"
      ]
     },
     "execution_count": 19,
     "metadata": {},
     "output_type": "execute_result"
    },
    {
     "data": {
      "image/png": "[encoded data removed]",
      "text/plain": [
       "<Figure size 432x288 with 2 Axes>"
      ]
     },
     "metadata": {},
     "output_type": "display_data"
    }
   ],
   "source": [
    "pm.forestplot(trace, varnames = ['rural_mean', 'urban_mean'])"
   ]
  },
  {
   "cell_type": "markdown",
   "metadata": {},
   "source": [
    "Finally, if we compare the different chains of the sample visually we can see that they are all very diiferent between zones. "
   ]
  },
  {
   "cell_type": "markdown",
   "metadata": {},
   "source": [
    "### Optional Questions\n",
    "\n",
    "1) Do you think this analysis could incorporate other variables? \n",
    "2) How do you think the results compare to the frequentist paradigm? Do you prefer to know the uncertainty in your results or have a single number to which you can refer to? \n",
    "3) I encourage you to play with the `PyMC3` package more as you can do very exciting things. (Such as model the result of football games)\n",
    "\n",
    "### References\n",
    "\n",
    "This work was inpired in part by this work done by the `PyMC3` development team:[https://docs.pymc.io/notebooks/BEST.html](https://docs.pymc.io/notebooks/BEST.html)"
   ]
  },
  {
   "cell_type": "markdown",
   "metadata": {},
   "source": [
    "<a rel=\"license\" href=\"http://creativecommons.org/licenses/by-sa/4.0/\"><img alt=\"Creative Commons Licence\" style=\"border-width:0\" src=\"https://i.creativecommons.org/l/by-sa/4.0/88x31.png\" /></a><br />This work is licensed under a <a rel=\"license\" href=\"http://creativecommons.org/licenses/by-sa/4.0/\">Creative Commons Attribution-ShareAlike 4.0 International License</a>."
   ]
  }
 ],
 "metadata": {
  "kernelspec": {
   "display_name": "Python 3",
   "language": "python",
   "name": "python3"
  },
  "language_info": {
   "codemirror_mode": {
    "name": "ipython",
    "version": 3
   },
   "file_extension": ".py",
   "mimetype": "text/x-python",
   "name": "python",
   "nbconvert_exporter": "python",
   "pygments_lexer": "ipython3",
   "version": "3.6.5"
  }
 },
 "nbformat": 4,
 "nbformat_minor": 2
}
